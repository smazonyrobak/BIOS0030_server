{
 "cells": [
  {
   "cell_type": "code",
   "execution_count": 2,
   "id": "895001d4",
   "metadata": {},
   "outputs": [
    {
     "name": "stdout",
     "output_type": "stream",
     "text": [
      "Directory two levels up: /Users/szymonlic/Desktop/BIOS0030_server\n"
     ]
    }
   ],
   "source": [
    "import os\n",
    "\n",
    "# Get the current working directory\n",
    "current_directory = os.getcwd()\n",
    "\n",
    "# Navigate two levels up\n",
    "two_levels_up = os.path.abspath(os.path.join(current_directory, \"..\", \"..\"))\n",
    "\n",
    "# Print the directory two levels up\n",
    "print(\"Directory two levels up:\", two_levels_up)\n"
   ]
  },
  {
   "cell_type": "code",
   "execution_count": null,
   "id": "b9681690",
   "metadata": {},
   "outputs": [],
   "source": []
  }
 ],
 "metadata": {
  "kernelspec": {
   "display_name": "Python 3 (ipykernel)",
   "language": "python",
   "name": "python3"
  },
  "language_info": {
   "codemirror_mode": {
    "name": "ipython",
    "version": 3
   },
   "file_extension": ".py",
   "mimetype": "text/x-python",
   "name": "python",
   "nbconvert_exporter": "python",
   "pygments_lexer": "ipython3",
   "version": "3.11.5"
  }
 },
 "nbformat": 4,
 "nbformat_minor": 5
}
